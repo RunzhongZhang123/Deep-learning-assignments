{
 "cells": [
  {
   "cell_type": "markdown",
   "metadata": {},
   "source": [
    "# ECBM E4040 - Assignment 2- Task 5: Kaggle Open-ended Competition\n",
    "\n",
    "Kaggle is a platform for predictive modelling and analytics competitions in which companies and researchers post data and statisticians and data miners compete to produce the best models for predicting and describing the data.\n",
    "\n",
    "If you don't have a Kaggle account, feel free to join at [www.kaggle.com](https://www.kaggle.com). To let the CAs do the grading more conveniently, please __use Lionmail to join Kaggle__ and __use UNI as your username__.\n",
    "\n",
    "The website for this competition is: \n",
    "https://www.kaggle.com/c/e4040fall2019-assignment-2-task-5\n",
    "\n",
    "You can find detailed description about this in-class competition on the website above. Please read carefully and follow the instructions.\n",
    "\n",
    "<span style=\"color:red\">__TODO__:</span>\n",
    "1. Train a custom model for the bottle dataset classification problem. You are free to use any methods taught in the class or found by yourself on the Internet (ALWAYS provide reference to the source) but __TF 2.0 is not allowed to use in this competition__. General training methods include:\n",
    "    * Dropout\n",
    "    * Batch normalization\n",
    "    * Early stopping\n",
    "    * l1-norm & l2-norm penalization\n",
    "2. You'll be given the test set to generate your predictions (70% public + 30% private, but you don't know which ones are public/private). Achieve 70% accuracy on the public test set. The accuracy will be shown on the public leaderboard once you submit your prediction .csv file. The private leaderboard would be released after the competition. The final ranking would based on that result, not the public one.\n",
    "3. \n",
    "\n",
    "    * Report your results on the Kaggle, for comparison with other students' optimal results (you can do this several times). \n",
    "    * Save your best model, using Github Classroom, at the same time when you submit the homework files into Courseworks. See instructions below. \n",
    "\n",
    "__Hint__: You can start from what you implemented in task 4. Another classic classification model named 'VGG16' can also be easily implemented."
   ]
  },
  {
   "cell_type": "markdown",
   "metadata": {},
   "source": [
    "## HW Submission Details:\n",
    "There are three components to reporting the results of this task: \n",
    "\n",
    "**(A) Submission (up to 20 submissions each day) of the .csv prediction file throught the Kaggle platform;**. You should start doing this __VERY early__, so that students can compare their work as they are making progress with model optimization.\n",
    "\n",
    "**(B) Editing and submitting the content of this Jupyter notebook, through Courseworks; **\n",
    "(i) The code for your CNN model and for the training function. The code should be stored in __./ecbm4040/neuralnets/kaggle.py__;\n",
    "(ii) Print out your training process and accuracy __within this notebook__;\n",
    "\n",
    "**(C) Submitting your best CNN model through Github Classroom repo.**\n",
    "\n",
    "**Description of (C):** \n",
    "For this task, we will continue to use Github classroom to save your model for submission. \n",
    "\n",
    "<span style=\"color:red\">__Submission content:__ :</span>\n",
    "(i) In your Assignment 2 submission folder, create a subfolder called __KaggleModel__. Upload your best model with all the data output (for example, __MODEL.data-00000-of-00001, MODEL.meta, MODEL.index__) into the folder. \n",
    "(ii) Remember to delete any intermediate results, **we only want your best model. Do not upload any data files**. The instructors will rerun the uploaded best model and verify against the score which you reported on the Kaggle.\n",
    "\n"
   ]
  },
  {
   "cell_type": "code",
   "execution_count": 58,
   "metadata": {},
   "outputs": [
    {
     "name": "stdout",
     "output_type": "stream",
     "text": [
      "The autoreload extension is already loaded. To reload it, use:\n",
      "  %reload_ext autoreload\n"
     ]
    }
   ],
   "source": [
    "# Import modules\n",
    "from __future__ import print_function\n",
    "\n",
    "%matplotlib inline\n",
    "%load_ext autoreload\n",
    "%autoreload 2\n",
    "\n",
    "import tensorflow as tf\n",
    "import numpy as np\n",
    "import time\n",
    "from matplotlib import pyplot as plt\n",
    "import cv2\n",
    "import os\n"
   ]
  },
  {
   "cell_type": "code",
   "execution_count": 2,
   "metadata": {},
   "outputs": [
    {
     "name": "stdout",
     "output_type": "stream",
     "text": [
      "load 0 set finished\n",
      "load 1 set finished\n",
      "load 2 set finished\n",
      "load 3 set finished\n",
      "load 4 set finished\n",
      "load training set finished\n",
      "Shuffle training set finished\n",
      "Preprocess training set finished\n",
      "X_train: (14000, 128, 128, 3)\n",
      "Y_train: (14000,)\n",
      "X_valid: (1000, 128, 128, 3)\n",
      "Y_valid: (1000,)\n"
     ]
    }
   ],
   "source": [
    "# load training data\n",
    "num_train = 3000\n",
    "num_valid = 1000\n",
    "num_label = 5\n",
    "x_train = np.zeros((num_train * num_label, 128, 128, 3))\n",
    "y_train = np.zeros(num_train * num_label, )\n",
    "for j in range(num_label):\n",
    "    y_train[0+j*num_train : (j+1)*num_train] = j\n",
    "    for i in range(num_train):\n",
    "        im = cv2.imread(\"./e4040fall2019-assignment-2-task-5/kaggle_train_128/train_128/{}/{}.png\".format(str(j), str(i+j*3000)))\n",
    "        x_train[i+j*num_train, :, :, :] = im\n",
    "    print('load {} set finished'.format(j))\n",
    "print('load training set finished')\n",
    "\n",
    "\n",
    "# shuffle data\n",
    "x = np.reshape(x_train, (15000, 128*128*3))\n",
    "y = np.reshape(y_train, (15000, 1))\n",
    "trainset = np.concatenate((x, y), axis = 1)\n",
    "np.random.shuffle(trainset)\n",
    "X_train = np.reshape(trainset[:,:-1], (num_train * num_label, 128, 128, 3))\n",
    "Y_train = np.reshape(trainset[:,-1:], (num_train * num_label, ))\n",
    "print('Shuffle training set finished')\n",
    "\n",
    "# data preprocessing\n",
    "mean_image = np.mean(X_train, axis=0).astype(np.float32)\n",
    "X_train = X_train.astype(np.float32) - mean_image\n",
    "X_valid = X_train[num_train*num_label-num_valid:, :]\n",
    "Y_valid = Y_train[num_train*num_label-num_valid:]\n",
    "X_train = X_train[:num_train*num_label-num_valid:, :]\n",
    "Y_train = Y_train[:num_train*num_label-num_valid]\n",
    "print('Preprocess training set finished')\n",
    "print('X_train:', X_train.shape)\n",
    "print('Y_train:', Y_train.shape)\n",
    "print('X_valid:', X_valid.shape)\n",
    "print('Y_valid:', Y_valid.shape)"
   ]
  },
  {
   "cell_type": "code",
   "execution_count": 4,
   "metadata": {},
   "outputs": [
    {
     "name": "stdout",
     "output_type": "stream",
     "text": [
      "load testing set finished\n",
      "Preprocess testing set finished\n",
      "X_test: (3500, 128, 128, 3)\n"
     ]
    }
   ],
   "source": [
    "# load test data\n",
    "num_test = 3500\n",
    "x_test = np.zeros((num_test, 128, 128, 3))\n",
    "for j in range(num_test):\n",
    "    im = cv2.imread(\"./e4040fall2019-assignment-2-task-5/kaggle_test_128/test_128/{}.png\".format(str(j)))\n",
    "    x_test[j, :, :, :] = im\n",
    "print('load testing set finished')\n",
    "\n",
    "\n",
    "# data preprocessing\n",
    "mean_image = np.mean(x_test, axis=0).astype(np.float32)\n",
    "X_test = x_test.astype(np.float32) - mean_image\n",
    "\n",
    "print('Preprocess testing set finished')\n",
    "print('X_test:', X_test.shape)"
   ]
  },
  {
   "cell_type": "code",
   "execution_count": 22,
   "metadata": {},
   "outputs": [],
   "source": [
    "Y_train_dummy = tf.keras.utils.to_categorical(Y_train)\n",
    "Y_valid_dummy = tf.keras.utils.to_categorical(Y_valid)"
   ]
  },
  {
   "cell_type": "markdown",
   "metadata": {},
   "source": [
    "## Train your model here"
   ]
  },
  {
   "cell_type": "code",
   "execution_count": 77,
   "metadata": {},
   "outputs": [
    {
     "name": "stderr",
     "output_type": "stream",
     "text": [
      "W1103 14:02:36.148415 140735795417984 deprecation_wrapper.py:119] From /Users/runzhongzhang/Desktop/Courses/DL/Homework/HW2/e4040-2019fall-assign2-rz2431/ecbm4040/neuralnets/kaggle.py:132: The name tf.placeholder is deprecated. Please use tf.compat.v1.placeholder instead.\n",
      "\n",
      "W1103 14:02:36.187072 140735795417984 deprecation_wrapper.py:119] From /Users/runzhongzhang/Desktop/Courses/DL/Homework/HW2/e4040-2019fall-assign2-rz2431/ecbm4040/neuralnets/layers.py:20: The name tf.variable_scope is deprecated. Please use tf.compat.v1.variable_scope instead.\n",
      "\n",
      "W1103 14:02:36.196259 140735795417984 deprecation_wrapper.py:119] From /Users/runzhongzhang/Desktop/Courses/DL/Homework/HW2/e4040-2019fall-assign2-rz2431/ecbm4040/neuralnets/layers.py:23: The name tf.get_variable is deprecated. Please use tf.compat.v1.get_variable instead.\n",
      "\n",
      "W1103 14:02:36.299834 140735795417984 deprecation_wrapper.py:119] From /Users/runzhongzhang/Desktop/Courses/DL/Homework/HW2/e4040-2019fall-assign2-rz2431/ecbm4040/neuralnets/layers.py:39: The name tf.summary.histogram is deprecated. Please use tf.compat.v1.summary.histogram instead.\n",
      "\n",
      "W1103 14:02:36.327170 140735795417984 deprecation_wrapper.py:119] From /Users/runzhongzhang/Desktop/Courses/DL/Homework/HW2/e4040-2019fall-assign2-rz2431/ecbm4040/neuralnets/layers.py:55: The name tf.nn.max_pool is deprecated. Please use tf.nn.max_pool2d instead.\n",
      "\n"
     ]
    },
    {
     "name": "stdout",
     "output_type": "stream",
     "text": [
      "Building example LeNet. Parameters: \n",
      "conv_featmap=(6, 16)\n",
      "fc_units=(120, 84)\n",
      "conv_kernel_size=(5, 5)\n",
      "pooling_size=(2, 2)\n",
      "l2_norm=0.01\n",
      "seed=235\n",
      "learning_rate=0.001\n"
     ]
    },
    {
     "name": "stderr",
     "output_type": "stream",
     "text": [
      "W1103 14:02:36.683836 140735795417984 deprecation.py:323] From /Users/runzhongzhang/Desktop/Courses/DL/Homework/HW2/e4040-2019fall-assign2-rz2431/ecbm4040/neuralnets/kaggle.py:72: softmax_cross_entropy_with_logits (from tensorflow.python.ops.nn_ops) is deprecated and will be removed in a future version.\n",
      "Instructions for updating:\n",
      "\n",
      "Future major versions of TensorFlow will allow gradients to flow\n",
      "into the labels input on backprop by default.\n",
      "\n",
      "See `tf.nn.softmax_cross_entropy_with_logits_v2`.\n",
      "\n",
      "W1103 14:02:36.747165 140735795417984 deprecation_wrapper.py:119] From /Users/runzhongzhang/Desktop/Courses/DL/Homework/HW2/e4040-2019fall-assign2-rz2431/ecbm4040/neuralnets/kaggle.py:76: The name tf.summary.scalar is deprecated. Please use tf.compat.v1.summary.scalar instead.\n",
      "\n",
      "W1103 14:02:36.753324 140735795417984 deprecation_wrapper.py:119] From /Users/runzhongzhang/Desktop/Courses/DL/Homework/HW2/e4040-2019fall-assign2-rz2431/ecbm4040/neuralnets/kaggle.py:96: The name tf.train.AdamOptimizer is deprecated. Please use tf.compat.v1.train.AdamOptimizer instead.\n",
      "\n"
     ]
    },
    {
     "name": "stdout",
     "output_type": "stream",
     "text": [
      "number of batches for training: 47\n"
     ]
    },
    {
     "name": "stderr",
     "output_type": "stream",
     "text": [
      "W1103 14:02:37.301745 140735795417984 deprecation_wrapper.py:119] From /Users/runzhongzhang/Desktop/Courses/DL/Homework/HW2/e4040-2019fall-assign2-rz2431/ecbm4040/neuralnets/kaggle.py:157: The name tf.Session is deprecated. Please use tf.compat.v1.Session instead.\n",
      "\n",
      "W1103 14:02:37.317337 140735795417984 deprecation_wrapper.py:119] From /Users/runzhongzhang/Desktop/Courses/DL/Homework/HW2/e4040-2019fall-assign2-rz2431/ecbm4040/neuralnets/kaggle.py:158: The name tf.summary.merge_all is deprecated. Please use tf.compat.v1.summary.merge_all instead.\n",
      "\n",
      "W1103 14:02:37.321777 140735795417984 deprecation_wrapper.py:119] From /Users/runzhongzhang/Desktop/Courses/DL/Homework/HW2/e4040-2019fall-assign2-rz2431/ecbm4040/neuralnets/kaggle.py:160: The name tf.summary.FileWriter is deprecated. Please use tf.compat.v1.summary.FileWriter instead.\n",
      "\n",
      "W1103 14:02:37.478958 140735795417984 deprecation_wrapper.py:119] From /Users/runzhongzhang/Desktop/Courses/DL/Homework/HW2/e4040-2019fall-assign2-rz2431/ecbm4040/neuralnets/kaggle.py:161: The name tf.train.Saver is deprecated. Please use tf.compat.v1.train.Saver instead.\n",
      "\n",
      "W1103 14:02:37.542876 140735795417984 deprecation_wrapper.py:119] From /Users/runzhongzhang/Desktop/Courses/DL/Homework/HW2/e4040-2019fall-assign2-rz2431/ecbm4040/neuralnets/kaggle.py:162: The name tf.global_variables_initializer is deprecated. Please use tf.compat.v1.global_variables_initializer instead.\n",
      "\n"
     ]
    },
    {
     "name": "stdout",
     "output_type": "stream",
     "text": [
      "epoch 1 \n",
      "epoch 2 \n",
      "epoch 3 \n",
      "Best validation accuracy! iteration:100 accuracy: 51.7%\n",
      "epoch 4 \n",
      "epoch 5 \n",
      "Best validation accuracy! iteration:200 accuracy: 61.6%\n",
      "epoch 6 \n",
      "epoch 7 \n",
      "Best validation accuracy! iteration:300 accuracy: 65.6%\n",
      "epoch 8 \n",
      "epoch 9 \n",
      "Best validation accuracy! iteration:400 accuracy: 66.5%\n",
      "epoch 10 \n",
      "epoch 11 \n",
      "Best validation accuracy! iteration:500 accuracy: 67.9%\n",
      "epoch 12 \n",
      "epoch 13 \n",
      "Best validation accuracy! iteration:600 accuracy: 68.4%\n",
      "epoch 14 \n",
      "epoch 15 \n",
      "epoch 16 \n",
      "epoch 17 \n",
      "epoch 18 \n",
      "Best validation accuracy! iteration:800 accuracy: 69.2%\n",
      "epoch 19 \n",
      "epoch 20 \n",
      "Best validation accuracy! iteration:900 accuracy: 70.0%\n",
      "epoch 21 \n",
      "epoch 22 \n",
      "epoch 23 \n",
      "epoch 24 \n",
      "Best validation accuracy! iteration:1100 accuracy: 70.2%\n",
      "epoch 25 \n",
      "epoch 26 \n",
      "Best validation accuracy! iteration:1200 accuracy: 71.5%\n",
      "epoch 27 \n",
      "epoch 28 \n",
      "Best validation accuracy! iteration:1300 accuracy: 71.6%\n",
      "epoch 29 \n",
      "epoch 30 \n",
      "epoch 31 \n",
      "epoch 32 \n",
      "epoch 33 \n",
      "epoch 34 \n",
      "epoch 35 \n",
      "Best validation accuracy! iteration:1600 accuracy: 72.3%\n",
      "epoch 36 \n",
      "epoch 37 \n",
      "epoch 38 \n",
      "epoch 39 \n",
      "epoch 40 \n",
      "epoch 41 \n",
      "epoch 42 \n",
      "epoch 43 \n",
      "Best validation accuracy! iteration:2000 accuracy: 72.6%\n",
      "epoch 44 \n",
      "epoch 45 \n",
      "epoch 46 \n",
      "epoch 47 \n",
      "epoch 48 \n",
      "epoch 49 \n",
      "epoch 50 \n",
      "Traning ends. The best valid accuracy is 72.6. Model named lenet_1572807757.\n"
     ]
    }
   ],
   "source": [
    "from ecbm4040.neuralnets.kaggle import my_training\n",
    "tf.reset_default_graph()\n",
    "\n",
    "result = my_training(X_train, Y_train, X_valid, Y_valid,\n",
    "                conv_featmap=(6, 16),\n",
    "                fc_units=(120, 84),\n",
    "                conv_kernel_size=(5, 5),\n",
    "                pooling_size=(2, 2),\n",
    "                l2_norm=0.01,\n",
    "                seed=235,\n",
    "                learning_rate=1e-3,\n",
    "                epoch=50,\n",
    "                batch_size=295,\n",
    "                verbose=False,\n",
    "                pre_trained_model=None)"
   ]
  },
  {
   "cell_type": "code",
   "execution_count": 79,
   "metadata": {},
   "outputs": [
    {
     "data": {
      "image/png": "[encoded data removed]",
      "text/plain": [
       "<Figure size 432x288 with 1 Axes>"
      ]
     },
     "metadata": {
      "needs_background": "light"
     },
     "output_type": "display_data"
    }
   ],
   "source": [
    "L = []\n",
    "for i in range(50):\n",
    "    L.append(i+1)\n",
    "plt.plot(L, result, label = 'Best validation accuracy')\n",
    "plt.xlabel('Epoch')\n",
    "plt.ylabel('Accuracy')\n",
    "plt.legend()\n",
    "plt.show()"
   ]
  },
  {
   "cell_type": "markdown",
   "metadata": {},
   "source": [
    "## Save your best model"
   ]
  },
  {
   "cell_type": "code",
   "execution_count": 84,
   "metadata": {},
   "outputs": [],
   "source": [
    "# Already saved during last step"
   ]
  },
  {
   "cell_type": "markdown",
   "metadata": {},
   "source": [
    "## Generate .csv file for Kaggle"
   ]
  },
  {
   "cell_type": "code",
   "execution_count": 80,
   "metadata": {},
   "outputs": [
    {
     "name": "stderr",
     "output_type": "stream",
     "text": [
      "W1103 15:41:33.895514 140735795417984 deprecation.py:323] From /Library/Frameworks/Python.framework/Versions/3.6/lib/python3.6/site-packages/tensorflow/python/training/saver.py:1276: checkpoint_exists (from tensorflow.python.training.checkpoint_management) is deprecated and will be removed in a future version.\n",
      "Instructions for updating:\n",
      "Use standard file APIs to check for files with this prefix.\n"
     ]
    },
    {
     "name": "stdout",
     "output_type": "stream",
     "text": [
      "Load the model from: lenet_1572807757\n",
      "Test ends.\n"
     ]
    }
   ],
   "source": [
    "# Get test result\n",
    "from ecbm4040.neuralnets.kaggle import my_testing\n",
    "tf.reset_default_graph()\n",
    "\n",
    "ans = my_testing(X_test, pre_trained_model = 'lenet_1572807757')"
   ]
  },
  {
   "cell_type": "code",
   "execution_count": 81,
   "metadata": {},
   "outputs": [
    {
     "name": "stdout",
     "output_type": "stream",
     "text": [
      "[1 1 2 ... 2 3 4]\n"
     ]
    }
   ],
   "source": [
    "print(ans)"
   ]
  },
  {
   "cell_type": "code",
   "execution_count": 83,
   "metadata": {},
   "outputs": [],
   "source": [
    "# The following code snippet can be used to generate your prediction .csv file.\n",
    "\n",
    "import csv\n",
    "with open('predicted.csv','w') as csvfile:\n",
    "    fieldnames = ['Id','label']\n",
    "    writer = csv.DictWriter(csvfile, fieldnames=fieldnames)\n",
    "    writer.writeheader()\n",
    "    for index,l in enumerate(ans):\n",
    "        filename = str(index)+'.png'\n",
    "        label = str(l)\n",
    "        writer.writerow({'Id': filename, 'label': label})    "
   ]
  },
  {
   "cell_type": "code",
   "execution_count": null,
   "metadata": {},
   "outputs": [],
   "source": []
  }
 ],
 "metadata": {
  "kernelspec": {
   "display_name": "Python 3",
   "language": "python",
   "name": "python3"
  },
  "language_info": {
   "codemirror_mode": {
    "name": "ipython",
    "version": 3
   },
   "file_extension": ".py",
   "mimetype": "text/x-python",
   "name": "python",
   "nbconvert_exporter": "python",
   "pygments_lexer": "ipython3",
   "version": "3.6.7"
  }
 },
 "nbformat": 4,
 "nbformat_minor": 2
}
