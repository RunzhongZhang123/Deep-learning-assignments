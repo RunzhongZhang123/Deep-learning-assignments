{
 "cells": [
  {
   "cell_type": "markdown",
   "metadata": {},
   "source": [
    "## Columbia University\n",
    "### ECBM E4040 Neural Networks and Deep Learning. Fall 2019."
   ]
  },
  {
   "cell_type": "markdown",
   "metadata": {},
   "source": [
    "# Task 1: XOR"
   ]
  },
  {
   "cell_type": "code",
   "execution_count": 1,
   "metadata": {},
   "outputs": [],
   "source": [
    "# Import modules\n",
    "from __future__ import print_function\n",
    "import tensorflow as tf\n",
    "import numpy as np\n",
    "from numpy.random import shuffle\n",
    "import time\n",
    "import matplotlib.pyplot as plt\n",
    "\n",
    "# Plot configurations\n",
    "%matplotlib inline\n",
    "\n",
    "# Notebook auto reloads code. (Ref: http://stackoverflow.com/questions/1907993/autoreload-of-modules-in-ipython)\n",
    "%load_ext autoreload\n",
    "%autoreload 2"
   ]
  },
  {
   "cell_type": "markdown",
   "metadata": {},
   "source": [
    "## Task 1, Part 1: Backpropagation through time (BPTT)"
   ]
  },
  {
   "cell_type": "markdown",
   "metadata": {},
   "source": [
    "**Question:** Consider a simple RNN network shown in the following figure, where _wx, wh, b1, w, b2_ are the scalar parameters of the network. The loss function is the **mean squared error (MSE)**. Given input _(x1, x2) = (-1, 0)_, ground truth _(g1, g2) = (1, 0), h0 = 0, (wx, wh, b1, w, b2) = (2, 1, 1, 2, 1)_, compute _(dwx, dwh, db1, dw, db2)_, which are the gradients of loss with repect to 5 parameters _(wx, wh, b1, w, b2)_.\n",
    "\n",
    "![bptt](./img/bptt2.jpg)"
   ]
  },
  {
   "cell_type": "markdown",
   "metadata": {},
   "source": [
    "<span style=\"color:red\">TODO:</span>\n",
    "\n",
    "Answer the above question. \n",
    "\n",
    "**First we calculate the forward path:**\n",
    "\n",
    "As we have: $$sigmoid(x)=\\frac{1}{1 + e^{-x}}$$\n",
    "\n",
    "h1 = sigmoid(wx\\*x1 + wh\\*h0 + b1) = sigmoid(2\\*-1 + 1\\*0 + 1) = sigmoid(-1) = 0.2689\n",
    "\n",
    "h2 = sigmoid(wx\\*x2 + wh\\*h1 + b1) = sigmoid(2\\*0 + 1\\*0.2689 + 1) = sigmoid(1.5) = 0.7806\n",
    "\n",
    "y1 = sigmoid(w\\*h1 + b2) = sigmoid(2\\*0.2689 + 1) = sigmoid(1.5378) = 0.8231\n",
    "\n",
    "y2 = sigmoid(w\\*h2 + b2) = sigmoid(2\\*0.7806 + 1) = sigmoid(2.5612) = 0.9283\n",
    "\n",
    "\\\\(loss = 0.5 *((y1 - g1)^2 + (y2 - g2)^2) = 0.5 * ((0.8231 - 1)^2 + (0.9283 - 0)^2) = 0.4465\\\\)\n",
    "\n",
    "\n",
    "**Second we calculate the backward path:**\n",
    "\n",
    "As we have: $$sigmoid'(x)=sigmoid(x)*(1-sigmoid(x))$$\n",
    "\n",
    "\\\\(\\frac{\\partial loss}{\\partial y1}=(y1-g1)=0.8231-1=-0.1769\\\\)\n",
    "\n",
    "\\\\(\\frac{\\partial loss}{\\partial y2}=(y2-g2)=0.9283\\\\)\n",
    "\n",
    "\\\\(\\frac{\\partial y1}{\\partial b2}=sigmoid(w*h1 + b2)*(1-sigmoid(w*h1 + b2))=0.8231*0.1769=0.1456\\\\)\n",
    "\n",
    "\\\\(\\frac{\\partial y2}{\\partial b2}=sigmoid(w*h2 + b2)*(1-sigmoid(w*h2 + b2))=0.9283*0.0717=0.0666\\\\)\n",
    "\n",
    "**Therefore, we have:** \\\\(db2=\\frac{\\partial loss}{\\partial y1}\\frac{\\partial y1}{\\partial b2}+ \\frac{\\partial loss}{\\partial y2}\\frac{\\partial y2}{\\partial b2}=-0.1769*0.1456+0.9283*0.0666=0.0361\\\\)\n",
    "\n",
    "\\\\(\\frac{\\partial y1}{\\partial w}=h1*sigmoid(w*h1 + b2)*(1-sigmoid(w*h1 + b2))=0.2689*0.8231*0.1769=0.0392\\\\)\n",
    "\n",
    "\\\\(\\frac{\\partial y2}{\\partial w}=h2*sigmoid(w*h2 + b2)*(1-sigmoid(w*h2 + b2))=0.7806*0.9283*0.0717=0.0520\\\\)\n",
    "\n",
    "**Therefore, we have:** \\\\(dw=\\frac{\\partial loss}{\\partial y1}*\\frac{\\partial y1}{\\partial w}+\\frac{\\partial loss}{\\partial y2}*\\frac{\\partial y2}{\\partial w}=-0.1769*0.0392+0.9283*0.0520=0.0413\\\\)\n",
    "\n",
    "\\\\(\\frac{\\partial y1}{h1}=w*sigmoid(w*h1 + b2)*(1-sigmoid(w*h1 + b2))=2*0.8231*0.1769=0.2912\\\\)\n",
    "\n",
    "\\\\(\\frac{\\partial h1}{b1}=sigmoid(wx*x1+wh*h0+b1)*(1-sigmoid(wx*x1+wh*h0+b1))=0.2689*0.7311=0.1966\\\\)\n",
    "\n",
    "\\\\(\\frac{\\partial loss}{\\partial y1}\\frac{\\partial y1}{\\partial h1}\\frac{\\partial h1}{\\partial b1}=-0.1769*0.2912*0.1966=-0.0101\\\\)\n",
    "\n",
    "\\\\(\\frac{\\partial y2}{h2}=w*sigmoid(w*h2 + b2)*(1-sigmoid(w*h2 + b2))=2*0.9283*0.0717=0.1331\\\\)\n",
    "\n",
    "\\\\(\\frac{\\partial h2}{b1}=sigmoid(wx*x2+wh*h1+b1)*(1-sigmoid(wx*x2+wh*h1+b1))=0.7806*0.2194=0.1712\\\\)\n",
    "\n",
    "\\\\(\\frac{\\partial h2}{h1}=wh*sigmoid(wx*x2+wh*h1+b1)*(1-sigmoid(wx*x2+wh*h1+b1))=1*0.7806*0.2194=0.1712\\\\)\n",
    "\n",
    "**Therefore, we have:** \\\\(db1=\\frac{\\partial loss}{\\partial y1}\\frac{\\partial y1}{\\partial h1}\\frac{\\partial h1}{\\partial b1} + \\frac{\\partial loss}{\\partial y2}\\frac{\\partial y2}{\\partial h2}(\\frac{\\partial h2}{\\partial b1} + \\frac{\\partial h2}{\\partial h1}\\frac{\\partial h1}{\\partial b1}) = -0.0101 + 0.9283*0.1331*(0.1712+0.1712*0.1966)=0.0152\\\\)\n",
    "\n",
    "\\\\(\\frac{\\partial h1}{wh}=h0*sigmoid(wx*x1+wh*h0+b1)*(1-sigmoid(wx*x1+wh*h0+b1))=0*0.2689*0.7311=0\\\\)\n",
    "\n",
    "\\\\(\\frac{\\partial h2}{wh}=h1*sigmoid(wx*x2+wh*h1+b1)*(1-sigmoid(wx*x2+wh*h1+b1))=0.2689*0.7806*0.2194=0.0461\\\\)\n",
    "\n",
    "**Therefore, we have:** \\\\(dwh=\\frac{\\partial loss}{\\partial y1}\\frac{\\partial y1}{\\partial h1}\\frac{\\partial h1}{\\partial wh} + \\frac{\\partial loss}{\\partial y2}\\frac{\\partial y2}{\\partial h2}(\\frac{\\partial h2}{\\partial wh} + \\frac{\\partial h2}{\\partial h1}\\frac{\\partial h1}{\\partial wh}) = 0 + 0.9283*0.1331*(0.0461+0)=0.0057\\\\)\n",
    "\n",
    "\\\\(\\frac{\\partial h1}{wx}=x1*sigmoid(wx*x1+wh*h0+b1)*(1-sigmoid(wx*x1+wh*h0+b1))=-1*0.2689*0.7311=-0.1966\\\\)\n",
    "\n",
    "\\\\(\\frac{\\partial h2}{wx}=x2*sigmoid(wx*x2+wh*h1+b1)*(1-sigmoid(wx*x2+wh*h1+b1))=0*0.7806*0.2194=0\\\\)\n",
    "\n",
    "**Therefore, we have:** \\\\(dwx=\\frac{\\partial loss}{\\partial y1}\\frac{\\partial y1}{\\partial h1}\\frac{\\partial h1}{\\partial wx} + \\frac{\\partial loss}{\\partial y2}\\frac{\\partial y2}{\\partial h2}(\\frac{\\partial h2}{\\partial wx} + \\frac{\\partial h2}{\\partial h1}\\frac{\\partial h1}{\\partial wx}) = -0.1769*0.2912*-0.1966 + 0.9283*0.1331*(0+0.1712*-0.1966)=0.0060\\\\)\n",
    "\n",
    "**In summary: db2=0.0361, dw=0.0413, db1=0.0152, dwh=0.0057, dwx=0.0060**\n",
    "\n",
    "\n",
    "* You can use LATEX to edit the equations, and Jupyter notebook can recognize basic LATEX syntax. Alternatively, you can edit equations in some other environment and then paste the screenshot of the equations here."
   ]
  },
  {
   "cell_type": "code",
   "execution_count": 2,
   "metadata": {},
   "outputs": [
    {
     "name": "stdout",
     "output_type": "stream",
     "text": [
      "verify by tensorflow\n",
      "dw = 0.0413, db2 = 0.0360, dwx = 0.0060, dwh = 0.0057, db1 = 0.0152\n"
     ]
    }
   ],
   "source": [
    "# use tensorflow to verify the answer.\n",
    "w = tf.Variable(2.0)\n",
    "b2 = tf.Variable(1.0)\n",
    "wx = tf.Variable(2.0)\n",
    "wh = tf.Variable(1.0)\n",
    "b1 = tf.Variable(1.0)\n",
    "\n",
    "h0 = tf.Variable(0.0)\n",
    "x = tf.placeholder(tf.float32, shape=(2,))\n",
    "g = tf.placeholder(tf.float32, shape=(2,))\n",
    "\n",
    "y = []\n",
    "h1 = tf.sigmoid(wx*x[0] + wh*h0 + b1)\n",
    "y.append(tf.sigmoid(w*h1 + b2))\n",
    "h2 = tf.sigmoid(wx*x[1] + wh*h1 + b1)\n",
    "y.append(tf.sigmoid(w*h2 + b2))\n",
    "\n",
    "\n",
    "loss = 0.5*(tf.square(g[0]-y[0]) + tf.square(g[1]-y[1]))\n",
    "\n",
    "dw, db2, dwx, dwh, db1 = tf.gradients(loss, [w, b2, wx, wh, b1])\n",
    "\n",
    "with tf.Session() as sess:\n",
    "    sess.run(tf.global_variables_initializer())\n",
    "    \n",
    "    dw_t, db2_t, dwx_t, dwh_t, db1_t = sess.run([dw, db2, dwx, dwh, db1],\n",
    "                                              feed_dict={x: np.asarray([-1.0,0.0]), g: np.asarray([1.0,0.0])})\n",
    "print(\"verify by tensorflow\")\n",
    "print(\"dw = {:.4f}, db2 = {:.4f}, dwx = {:.4f}, dwh = {:.4f}, db1 = {:.4f}\".format(dw_t, db2_t, dwx_t, dwh_t, db1_t))\n",
    "\n",
    "\n",
    "\n",
    "\n"
   ]
  },
  {
   "cell_type": "markdown",
   "metadata": {},
   "source": [
    "## Task 1, Part 2: Use tensorflow modules to create XOR network\n",
    "\n",
    "In this part, you need to build and train an XOR network that can learn the XOR function. It is a very simple implementation of RNN and will give you an idea how RNN is built and how to train it."
   ]
  },
  {
   "cell_type": "markdown",
   "metadata": {},
   "source": [
    "### XOR network\n",
    "\n",
    "XOR network can learn the XOR $\\oplus$ function\n",
    "\n",
    "As shown in the figure below, and for instance, if input $(x0, x1, x2)$=(1,0,0), then output $(y1, y2, y3)$=(1,1,1). That is, $y_n = x_0\\oplus x_1 \\oplus ... \\oplus x_{n-1}$\n",
    "\n",
    "![xor_net](./img/xor.png)"
   ]
  },
  {
   "cell_type": "markdown",
   "metadata": {},
   "source": [
    "### Create data set\n",
    "This function provides you the way to generate the data which is required for the training process. You should utilize it when building your training function for the GRU. Please read the source code for more information."
   ]
  },
  {
   "cell_type": "code",
   "execution_count": 3,
   "metadata": {},
   "outputs": [],
   "source": [
    "from utils.xor.dataset import create_dataset"
   ]
  },
  {
   "cell_type": "markdown",
   "metadata": {},
   "source": [
    "### (Demo) Build a network using a Tensorlow LSTMCell and GRUCell\n",
    "This section shows an example how to build a RNN network using an LSTM cell or GRU cell. Both LSTM and GRU cell are inbuilt classes in tensorflow which separately implement the real behavior of the LSTM and GRU neuron. \n",
    "\n",
    "Reference: \n",
    "1. [TensorFlow LSTM cell](https://www.tensorflow.org/api_docs/python/tf/nn/rnn_cell/LSTMCell)\n",
    "1. [TensorFlow GRU cell](https://www.tensorflow.org/api_docs/python/tf/nn/rnn_cell/GRUCell)\n",
    "2. [Understanding GRU networks](https://towardsdatascience.com/understanding-gru-networks-2ef37df6c9be)"
   ]
  },
  {
   "cell_type": "markdown",
   "metadata": {},
   "source": [
    "#### LSTM"
   ]
  },
  {
   "cell_type": "code",
   "execution_count": 4,
   "metadata": {},
   "outputs": [
    {
     "name": "stderr",
     "output_type": "stream",
     "text": [
      "WARNING: Logging before flag parsing goes to stderr.\n",
      "W1128 21:31:48.008954 140735790596992 deprecation.py:323] From <ipython-input-4-597affda235a>:5: LSTMCell.__init__ (from tensorflow.python.ops.rnn_cell_impl) is deprecated and will be removed in a future version.\n",
      "Instructions for updating:\n",
      "This class is equivalent as tf.keras.layers.LSTMCell, and will be replaced by that in Tensorflow 2.0.\n",
      "W1128 21:31:48.016242 140735790596992 deprecation.py:323] From <ipython-input-4-597affda235a>:16: dynamic_rnn (from tensorflow.python.ops.rnn) is deprecated and will be removed in a future version.\n",
      "Instructions for updating:\n",
      "Please use `keras.layers.RNN(cell)`, which is equivalent to this API\n",
      "W1128 21:31:48.159185 140735790596992 deprecation.py:506] From /Library/Frameworks/Python.framework/Versions/3.6/lib/python3.6/site-packages/tensorflow/python/ops/init_ops.py:1251: calling VarianceScaling.__init__ (from tensorflow.python.ops.init_ops) with dtype is deprecated and will be removed in a future version.\n",
      "Instructions for updating:\n",
      "Call initializer instance with the dtype argument instead of passing it to the constructor\n",
      "W1128 21:31:48.175721 140735790596992 deprecation.py:506] From /Library/Frameworks/Python.framework/Versions/3.6/lib/python3.6/site-packages/tensorflow/python/ops/rnn_cell_impl.py:961: calling Zeros.__init__ (from tensorflow.python.ops.init_ops) with dtype is deprecated and will be removed in a future version.\n",
      "Instructions for updating:\n",
      "Call initializer instance with the dtype argument instead of passing it to the constructor\n",
      "W1128 21:31:49.029762 140735790596992 deprecation.py:323] From <ipython-input-4-597affda235a>:20: dense (from tensorflow.python.layers.core) is deprecated and will be removed in a future version.\n",
      "Instructions for updating:\n",
      "Use keras.layers.dense instead.\n"
     ]
    }
   ],
   "source": [
    "from tensorflow.contrib.rnn import LSTMCell\n",
    "\n",
    "# define LSTM cell\n",
    "lstm_units = 64\n",
    "cell = LSTMCell(lstm_units,num_proj=2,state_is_tuple=True)\n",
    "\n",
    "\n",
    "tf.reset_default_graph()\n",
    "\n",
    "# Input shape: (num_samples, seq_length, input_dimension)\n",
    "# Output shape: (num_samples, output_ground_truth), and output_ground_truth is 0/1.\n",
    "input_data = tf.placeholder(tf.float32, shape=[None,None,1])\n",
    "output_data = tf.placeholder(tf.int64, shape=[None,None])\n",
    "\n",
    "# create LSTM network: you can also choose other modules provided by tensorflow, like static_rnn etc.\n",
    "hidden, _ = tf.nn.dynamic_rnn(cell, input_data, dtype=tf.float32)\n",
    "\n",
    "# generate output from the hidden information\n",
    "output_shape = 2\n",
    "out = tf.layers.dense(hidden, output_shape)\n",
    "pred = tf.argmax(out, axis=2)\n",
    "\n",
    "# loss function\n",
    "loss = tf.reduce_mean(tf.nn.sparse_softmax_cross_entropy_with_logits(labels=output_data,logits=out))\n",
    "\n",
    "# optimization\n",
    "optimizer = tf.train.AdamOptimizer(learning_rate=0.1).minimize(loss)\n",
    "\n",
    "# accuracy\n",
    "correct_num = tf.equal(output_data,pred)\n",
    "accuracy = tf.reduce_mean(tf.cast(correct_num,tf.float32))"
   ]
  },
  {
   "cell_type": "markdown",
   "metadata": {},
   "source": [
    "#### GRU"
   ]
  },
  {
   "cell_type": "code",
   "execution_count": 5,
   "metadata": {},
   "outputs": [
    {
     "name": "stderr",
     "output_type": "stream",
     "text": [
      "W1128 21:31:49.976174 140735790596992 deprecation.py:323] From <ipython-input-5-e477353acb57>:5: GRUCell.__init__ (from tensorflow.python.ops.rnn_cell_impl) is deprecated and will be removed in a future version.\n",
      "Instructions for updating:\n",
      "This class is equivalent as tf.keras.layers.GRUCell, and will be replaced by that in Tensorflow 2.0.\n",
      "W1128 21:31:50.063004 140735790596992 deprecation.py:506] From /Library/Frameworks/Python.framework/Versions/3.6/lib/python3.6/site-packages/tensorflow/python/ops/rnn_cell_impl.py:564: calling Constant.__init__ (from tensorflow.python.ops.init_ops) with dtype is deprecated and will be removed in a future version.\n",
      "Instructions for updating:\n",
      "Call initializer instance with the dtype argument instead of passing it to the constructor\n"
     ]
    }
   ],
   "source": [
    "from tensorflow.contrib.rnn import GRUCell\n",
    "\n",
    "# define GRU cell\n",
    "gru_units = 64\n",
    "cell = GRUCell(gru_units)\n",
    "\n",
    "\n",
    "tf.reset_default_graph()\n",
    "\n",
    "# Input shape: (num_samples, seq_length, input_dimension)\n",
    "# Output shape: (num_samples, output_ground_truth), and output_ground_truth is 0/1.\n",
    "input_data = tf.placeholder(tf.float32, shape=[None,None,1])\n",
    "output_data = tf.placeholder(tf.int64, shape=[None,None])\n",
    "\n",
    "# create GRU network: you can also choose other modules provided by tensorflow, like static_rnn etc.\n",
    "hidden, _ = tf.nn.dynamic_rnn(cell, input_data, dtype=tf.float32)\n",
    "\n",
    "# generate output from the hidden information\n",
    "output_shape = 2\n",
    "out = tf.layers.dense(hidden, output_shape)\n",
    "pred = tf.argmax(out, axis=2)\n",
    "\n",
    "# loss function\n",
    "loss = tf.reduce_mean(tf.nn.sparse_softmax_cross_entropy_with_logits(labels=output_data,logits=out))\n",
    "\n",
    "# optimization\n",
    "optimizer = tf.train.AdamOptimizer(learning_rate=0.1).minimize(loss)\n",
    "\n",
    "# accuracy\n",
    "correct_num = tf.equal(output_data,pred)\n",
    "accuracy = tf.reduce_mean(tf.cast(correct_num,tf.float32))"
   ]
  },
  {
   "cell_type": "markdown",
   "metadata": {},
   "source": [
    "### Training \n",
    "\n",
    "<span style='color:red'>TODO:</span> \n",
    "1. Build your training function for RNN (choose either LSTM or GRU); \n",
    "2. Plot the cost during the training"
   ]
  },
  {
   "cell_type": "code",
   "execution_count": 19,
   "metadata": {},
   "outputs": [
    {
     "name": "stdout",
     "output_type": "stream",
     "text": [
      "0,loss = 0.9132660031318665, accuracy = 0.48980000615119934\n",
      "1,loss = 0.825751781463623, accuracy = 0.4700250029563904\n",
      "2,loss = 0.7270845770835876, accuracy = 0.43342500925064087\n",
      "3,loss = 0.6678993701934814, accuracy = 0.49877500534057617\n",
      "4,loss = 0.6637828946113586, accuracy = 0.6341000199317932\n",
      "5,loss = 0.6739504337310791, accuracy = 0.7551500201225281\n",
      "6,loss = 0.6795833110809326, accuracy = 0.5033249855041504\n",
      "7,loss = 0.665730357170105, accuracy = 0.7327499985694885\n",
      "8,loss = 0.6439501047134399, accuracy = 0.7402999997138977\n",
      "9,loss = 0.6160931587219238, accuracy = 0.7688249945640564\n",
      "10,loss = 0.5967678427696228, accuracy = 0.6763250231742859\n",
      "11,loss = 0.5827886462211609, accuracy = 0.7752000093460083\n",
      "12,loss = 0.630425214767456, accuracy = 0.6218249797821045\n",
      "13,loss = 0.6275697946548462, accuracy = 0.6643750071525574\n",
      "14,loss = 0.6546361446380615, accuracy = 0.6110749840736389\n",
      "15,loss = 0.6162014007568359, accuracy = 0.6258000135421753\n",
      "16,loss = 0.6110023260116577, accuracy = 0.6057249903678894\n",
      "17,loss = 0.5627396702766418, accuracy = 0.7439000010490417\n",
      "18,loss = 0.5708004832267761, accuracy = 0.7285500168800354\n",
      "19,loss = 0.5545714497566223, accuracy = 0.755299985408783\n",
      "20,loss = 0.5173597931861877, accuracy = 0.7509750127792358\n",
      "21,loss = 0.5032557249069214, accuracy = 0.7163249850273132\n",
      "22,loss = 0.4310728907585144, accuracy = 0.7914249897003174\n",
      "23,loss = 0.3935132920742035, accuracy = 0.8955249786376953\n",
      "24,loss = 0.3658854365348816, accuracy = 0.8811500072479248\n",
      "25,loss = 0.283234179019928, accuracy = 0.9441999793052673\n",
      "26,loss = 0.23995493352413177, accuracy = 0.9460999965667725\n",
      "27,loss = 0.17875516414642334, accuracy = 0.9781500101089478\n",
      "28,loss = 0.2200295627117157, accuracy = 0.9626500010490417\n",
      "29,loss = 0.30439063906669617, accuracy = 0.9152250289916992\n",
      "30,loss = 0.20361006259918213, accuracy = 0.9610249996185303\n",
      "31,loss = 0.07249284535646439, accuracy = 1.0\n",
      "32,loss = 0.3021143674850464, accuracy = 0.9140750169754028\n",
      "33,loss = 0.05179959535598755, accuracy = 1.0\n",
      "34,loss = 0.5213516354560852, accuracy = 0.8455749750137329\n",
      "35,loss = 0.28359588980674744, accuracy = 0.9324250221252441\n",
      "36,loss = 0.21141313016414642, accuracy = 0.9422749876976013\n",
      "37,loss = 0.060650914907455444, accuracy = 0.9847999811172485\n",
      "38,loss = 0.10367872565984726, accuracy = 0.9711750149726868\n",
      "39,loss = 0.1339038908481598, accuracy = 0.9641249775886536\n",
      "40,loss = 0.09921011328697205, accuracy = 0.9797250032424927\n",
      "41,loss = 0.0628599300980568, accuracy = 0.991225004196167\n",
      "42,loss = 0.05225077643990517, accuracy = 0.9957000017166138\n",
      "43,loss = 0.041722699999809265, accuracy = 0.99795001745224\n",
      "44,loss = 0.032513514161109924, accuracy = 0.998324990272522\n",
      "45,loss = 0.024674223735928535, accuracy = 1.0\n",
      "46,loss = 0.020788149908185005, accuracy = 1.0\n",
      "47,loss = 0.01953035034239292, accuracy = 1.0\n",
      "48,loss = 0.01896526850759983, accuracy = 1.0\n",
      "49,loss = 0.018318071961402893, accuracy = 1.0\n",
      "50,loss = 0.01734207011759281, accuracy = 1.0\n",
      "51,loss = 0.016161873936653137, accuracy = 1.0\n",
      "52,loss = 0.015119241550564766, accuracy = 1.0\n",
      "53,loss = 0.013613665476441383, accuracy = 1.0\n",
      "54,loss = 0.012240135110914707, accuracy = 1.0\n",
      "55,loss = 0.011335969902575016, accuracy = 1.0\n",
      "56,loss = 0.010754582472145557, accuracy = 1.0\n",
      "57,loss = 0.010395039804279804, accuracy = 1.0\n",
      "58,loss = 0.010129907168447971, accuracy = 1.0\n",
      "59,loss = 0.009817661717534065, accuracy = 1.0\n",
      "60,loss = 0.0093881506472826, accuracy = 1.0\n",
      "61,loss = 0.008885122835636139, accuracy = 1.0\n",
      "62,loss = 0.008387627080082893, accuracy = 1.0\n",
      "63,loss = 0.007941148243844509, accuracy = 1.0\n",
      "64,loss = 0.007555886637419462, accuracy = 1.0\n",
      "65,loss = 0.007225986570119858, accuracy = 1.0\n",
      "66,loss = 0.006942037958651781, accuracy = 1.0\n",
      "67,loss = 0.006695033051073551, accuracy = 1.0\n",
      "68,loss = 0.006477104965597391, accuracy = 1.0\n",
      "69,loss = 0.006281404756009579, accuracy = 1.0\n",
      "70,loss = 0.006102423649281263, accuracy = 1.0\n",
      "71,loss = 0.005935717839747667, accuracy = 1.0\n",
      "72,loss = 0.005777930375188589, accuracy = 1.0\n",
      "73,loss = 0.005626833997666836, accuracy = 1.0\n",
      "74,loss = 0.00548112578690052, accuracy = 1.0\n",
      "75,loss = 0.00534018175676465, accuracy = 1.0\n",
      "76,loss = 0.005203999113291502, accuracy = 1.0\n",
      "77,loss = 0.005072873085737228, accuracy = 1.0\n",
      "78,loss = 0.004947203677147627, accuracy = 1.0\n",
      "79,loss = 0.00482725165784359, accuracy = 1.0\n"
     ]
    }
   ],
   "source": [
    "# TODO: training\n",
    "X, y = create_dataset(5000)\n",
    "\n",
    "num_turn = 80\n",
    "losslist = []\n",
    "\n",
    "with tf.Session() as sess:\n",
    "    sess.run(tf.global_variables_initializer())\n",
    "    for i in range(num_turn):\n",
    "        _, l, acc= sess.run([optimizer, loss, accuracy], feed_dict={input_data: X, output_data: y})\n",
    "        losslist.append(l)\n",
    "        print('{},loss = {}, accuracy = {}'.format(i, l, acc))"
   ]
  },
  {
   "cell_type": "code",
   "execution_count": 20,
   "metadata": {},
   "outputs": [
    {
     "data": {
      "image/png": "[encoded data removed]",
      "text/plain": [
       "<Figure size 432x288 with 1 Axes>"
      ]
     },
     "metadata": {
      "needs_background": "light"
     },
     "output_type": "display_data"
    }
   ],
   "source": [
    "# TODO: plot loss history\n",
    "plt.plot(losslist)\n",
    "plt.xlabel('Epoch')\n",
    "plt.ylabel('Loss')\n",
    "plt.show()"
   ]
  },
  {
   "cell_type": "markdown",
   "metadata": {
    "collapsed": true
   },
   "source": [
    "## Task 1, Part 3 :  Build your own LSTMCell\n",
    "In this part, you need to build your own LSTM cell to achieve the LSTM functionality. \n",
    "\n",
    "<span style=\"color:red\">TODO:</span> \n",
    "1. Finish class **MyLSTMCell** in utils/xor/rnn.py;\n",
    "2. Write the training function for your RNN;\n",
    "3. Plot the cost during training."
   ]
  },
  {
   "cell_type": "code",
   "execution_count": 21,
   "metadata": {},
   "outputs": [],
   "source": [
    "from utils.xor.rnn import MyLSTMCell"
   ]
  },
  {
   "cell_type": "code",
   "execution_count": 22,
   "metadata": {},
   "outputs": [],
   "source": [
    "# recreate xor netowrk with your own LSTM cell\n",
    "tf.reset_default_graph()\n",
    "\n",
    "#Input shape: (num_samples,seq_length,input_dimension)\n",
    "#Output shape: (num_samples, output_ground_truth), and output_ground_truth is 0/1. \n",
    "input_data = tf.placeholder(tf.float32,shape=[None,None,1])\n",
    "output_data = tf.placeholder(tf.int64,shape=[None,None])\n",
    "\n",
    "# recreate xor netowrk with your own LSTM cell\n",
    "lstm_units = 64\n",
    "cell = MyLSTMCell(lstm_units,num_proj=2)\n",
    "\n",
    "# create GRU network: you can also choose other modules provided by tensorflow, like static_rnn etc.\n",
    "hidden, _ = tf.nn.dynamic_rnn(cell,input_data,dtype=tf.float32)\n",
    "\n",
    "# generate output from the hidden information\n",
    "output_shape = 2\n",
    "out = tf.layers.dense(hidden, output_shape)\n",
    "pred = tf.argmax(out,axis=2)\n",
    "\n",
    "# loss function\n",
    "loss = tf.reduce_mean(tf.nn.sparse_softmax_cross_entropy_with_logits(labels=output_data,logits=out))\n",
    "# optimization\n",
    "optimizer = tf.train.AdamOptimizer(learning_rate=0.1).minimize(loss)\n",
    "# accuracy\n",
    "correct = tf.equal(output_data,pred)\n",
    "accuracy = tf.reduce_mean(tf.cast(correct,tf.float32))"
   ]
  },
  {
   "cell_type": "markdown",
   "metadata": {},
   "source": [
    "### Training"
   ]
  },
  {
   "cell_type": "code",
   "execution_count": 25,
   "metadata": {},
   "outputs": [
    {
     "name": "stdout",
     "output_type": "stream",
     "text": [
      "0,loss = 1.7590659856796265, accuracy = 0.5130749940872192\n",
      "1,loss = 1.7644238471984863, accuracy = 0.4956499934196472\n",
      "2,loss = 1.4400146007537842, accuracy = 0.3843249976634979\n",
      "3,loss = 1.3183326721191406, accuracy = 0.3674750030040741\n",
      "4,loss = 1.2804447412490845, accuracy = 0.38782501220703125\n",
      "5,loss = 1.1732988357543945, accuracy = 0.31130000948905945\n",
      "6,loss = 1.0947517156600952, accuracy = 0.36887499690055847\n",
      "7,loss = 0.9268133044242859, accuracy = 0.38237500190734863\n",
      "8,loss = 0.805672824382782, accuracy = 0.38214999437332153\n",
      "9,loss = 0.7122290730476379, accuracy = 0.4434249997138977\n",
      "10,loss = 0.7065039277076721, accuracy = 0.4979250133037567\n",
      "11,loss = 0.785500705242157, accuracy = 0.4949750006198883\n",
      "12,loss = 0.7997347116470337, accuracy = 0.49592500925064087\n",
      "13,loss = 0.7919926643371582, accuracy = 0.492374986410141\n",
      "14,loss = 0.7687379717826843, accuracy = 0.5193250179290771\n",
      "15,loss = 0.7340282201766968, accuracy = 0.6446499824523926\n",
      "16,loss = 0.6979590654373169, accuracy = 0.6157000064849854\n",
      "17,loss = 0.6568986177444458, accuracy = 0.5565000176429749\n",
      "18,loss = 0.6172710657119751, accuracy = 0.5410500168800354\n",
      "19,loss = 0.6035863161087036, accuracy = 0.6064249873161316\n",
      "20,loss = 0.5918282270431519, accuracy = 0.6072250008583069\n",
      "21,loss = 0.5792796015739441, accuracy = 0.6051499843597412\n",
      "22,loss = 0.5670918822288513, accuracy = 0.6010000109672546\n",
      "23,loss = 0.5587221384048462, accuracy = 0.6357250213623047\n",
      "24,loss = 0.5519179105758667, accuracy = 0.6472749710083008\n",
      "25,loss = 0.5449673533439636, accuracy = 0.7161999940872192\n",
      "26,loss = 0.5380048155784607, accuracy = 0.7261499762535095\n",
      "27,loss = 0.5307807326316833, accuracy = 0.7376750111579895\n",
      "28,loss = 0.522512674331665, accuracy = 0.7046999931335449\n",
      "29,loss = 0.5122780203819275, accuracy = 0.7343249917030334\n",
      "30,loss = 0.500663161277771, accuracy = 0.7385500073432922\n",
      "31,loss = 0.49102216958999634, accuracy = 0.7130500078201294\n",
      "32,loss = 0.4812483489513397, accuracy = 0.7216249704360962\n",
      "33,loss = 0.4684169292449951, accuracy = 0.7227500081062317\n",
      "34,loss = 0.4496666491031647, accuracy = 0.7809749841690063\n",
      "35,loss = 0.42465752363204956, accuracy = 0.8084750175476074\n",
      "36,loss = 0.379335880279541, accuracy = 0.8505749702453613\n",
      "37,loss = 0.3031717836856842, accuracy = 0.9419249892234802\n",
      "38,loss = 0.24300363659858704, accuracy = 0.9625750184059143\n",
      "39,loss = 0.17152567207813263, accuracy = 0.9842249751091003\n",
      "40,loss = 0.14217834174633026, accuracy = 0.9875249862670898\n",
      "41,loss = 0.0908438116312027, accuracy = 1.0\n",
      "42,loss = 0.10759291052818298, accuracy = 0.990149974822998\n",
      "43,loss = 0.07388800382614136, accuracy = 0.9970999956130981\n",
      "44,loss = 0.05249089375138283, accuracy = 1.0\n",
      "45,loss = 0.04407024756073952, accuracy = 1.0\n",
      "46,loss = 0.04046367108821869, accuracy = 1.0\n",
      "47,loss = 0.03330251947045326, accuracy = 1.0\n",
      "48,loss = 0.027523456141352654, accuracy = 1.0\n",
      "49,loss = 0.024935245513916016, accuracy = 1.0\n",
      "50,loss = 0.02276485040783882, accuracy = 1.0\n",
      "51,loss = 0.02009093388915062, accuracy = 1.0\n",
      "52,loss = 0.017407534644007683, accuracy = 0.9995750188827515\n",
      "53,loss = 0.015559541061520576, accuracy = 1.0\n",
      "54,loss = 0.014586725272238255, accuracy = 1.0\n",
      "55,loss = 0.01420701015740633, accuracy = 1.0\n",
      "56,loss = 0.01372213289141655, accuracy = 1.0\n",
      "57,loss = 0.012855621054768562, accuracy = 1.0\n",
      "58,loss = 0.011936036869883537, accuracy = 1.0\n",
      "59,loss = 0.01120699755847454, accuracy = 1.0\n",
      "60,loss = 0.010743111371994019, accuracy = 1.0\n",
      "61,loss = 0.01037395466119051, accuracy = 1.0\n",
      "62,loss = 0.009898688644170761, accuracy = 1.0\n",
      "63,loss = 0.009386081248521805, accuracy = 1.0\n",
      "64,loss = 0.008975982666015625, accuracy = 1.0\n",
      "65,loss = 0.008673292584717274, accuracy = 1.0\n",
      "66,loss = 0.008428377099335194, accuracy = 1.0\n",
      "67,loss = 0.008202387019991875, accuracy = 1.0\n",
      "68,loss = 0.007974779233336449, accuracy = 1.0\n",
      "69,loss = 0.007740642409771681, accuracy = 1.0\n",
      "70,loss = 0.007506903260946274, accuracy = 1.0\n",
      "71,loss = 0.007285215891897678, accuracy = 1.0\n",
      "72,loss = 0.00708514079451561, accuracy = 1.0\n",
      "73,loss = 0.006910571362823248, accuracy = 1.0\n",
      "74,loss = 0.00675971619784832, accuracy = 1.0\n",
      "75,loss = 0.006626521237194538, accuracy = 1.0\n",
      "76,loss = 0.006502929609268904, accuracy = 1.0\n",
      "77,loss = 0.00638125604018569, accuracy = 1.0\n",
      "78,loss = 0.006257311906665564, accuracy = 1.0\n",
      "79,loss = 0.006132057867944241, accuracy = 1.0\n"
     ]
    }
   ],
   "source": [
    "# TODO: training\n",
    "X, y = create_dataset(5000)\n",
    "\n",
    "num_turn = 80\n",
    "losslist = []\n",
    "\n",
    "with tf.Session() as sess:\n",
    "    sess.run(tf.global_variables_initializer())\n",
    "    for i in range(num_turn):\n",
    "        _, l, acc= sess.run([optimizer, loss, accuracy], feed_dict={input_data: X, output_data: y})\n",
    "        losslist.append(l)\n",
    "        print('{},loss = {}, accuracy = {}'.format(i, l, acc))"
   ]
  },
  {
   "cell_type": "code",
   "execution_count": 26,
   "metadata": {},
   "outputs": [
    {
     "data": {
      "image/png": "[encoded data removed]",
      "text/plain": [
       "<Figure size 432x288 with 1 Axes>"
      ]
     },
     "metadata": {
      "needs_background": "light"
     },
     "output_type": "display_data"
    }
   ],
   "source": [
    "# TODO: plot loss history\n",
    "L = [i+1 for i in range(num_turn)]\n",
    "plt.plot(L, losslist)\n",
    "plt.xlabel('Epoch')\n",
    "plt.ylabel('Loss')\n",
    "plt.show()"
   ]
  },
  {
   "cell_type": "code",
   "execution_count": null,
   "metadata": {},
   "outputs": [],
   "source": []
  }
 ],
 "metadata": {
  "kernelspec": {
   "display_name": "Python 3",
   "language": "python",
   "name": "python3"
  },
  "language_info": {
   "codemirror_mode": {
    "name": "ipython",
    "version": 3
   },
   "file_extension": ".py",
   "mimetype": "text/x-python",
   "name": "python",
   "nbconvert_exporter": "python",
   "pygments_lexer": "ipython3",
   "version": "3.6.7"
  }
 },
 "nbformat": 4,
 "nbformat_minor": 2
}
